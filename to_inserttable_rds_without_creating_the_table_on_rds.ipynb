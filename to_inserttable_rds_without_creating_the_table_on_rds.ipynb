{
 "cells": [
  {
   "cell_type": "code",
   "execution_count": 10,
   "id": "3a172be3",
   "metadata": {},
   "outputs": [],
   "source": [
    "import geopandas as gpd\n",
    "import pandas as pd"
   ]
  },
  {
   "cell_type": "code",
   "execution_count": 11,
   "id": "03e7b221",
   "metadata": {},
   "outputs": [],
   "source": [
    "df=gpd.read_file('bcc_off_street_parking_regulations.gpkg')"
   ]
  },
  {
   "cell_type": "code",
   "execution_count": 12,
   "id": "798b18e1",
   "metadata": {},
   "outputs": [
    {
     "name": "stdout",
     "output_type": "stream",
     "text": [
      "CRS value for  epsg:4326\n"
     ]
    }
   ],
   "source": [
    "crs = df.crs\n",
    "\n",
    "if crs is not None:\n",
    "    print(f\"CRS value for  {crs}\")\n",
    "else:\n",
    "    print(f\"No CRS information found for .\")"
   ]
  },
  {
   "cell_type": "code",
   "execution_count": 13,
   "id": "e5f3dced",
   "metadata": {},
   "outputs": [],
   "source": [
    "import psycopg2\n",
    "from sqlalchemy import create_engine\n",
    "\n",
    "# UKPN dev\n",
    "database=\"postgres\"\n",
    "user=\"ai_dev_rds\"\n",
    "password='bvl#nLBi#46143#68RVDv46v#3h#bv#hk'\n",
    "host='dev-rds.cvlxznrgk8ix.eu-west-2.rds.amazonaws.com'\n",
    "port= '5432'\n",
    "\n",
    "conn_dev = psycopg2.connect(\n",
    "   database=database, user=user, password=password, host=host, port=port\n",
    ")\n",
    "\n",
    "engine_dev = create_engine(f'postgresql://{user}:{password}@{host}:{port}/{database}')\n"
   ]
  },
  {
   "cell_type": "code",
   "execution_count": 14,
   "id": "54a144af",
   "metadata": {},
   "outputs": [
    {
     "data": {
      "text/plain": [
       "Index(['UPRN', 'Latitude', 'Longitude', 'Parkable Area (m2)', 'Availability',\n",
       "       'geometry'],\n",
       "      dtype='object')"
      ]
     },
     "execution_count": 14,
     "metadata": {},
     "output_type": "execute_result"
    }
   ],
   "source": [
    "df.columns\n"
   ]
  },
  {
   "cell_type": "code",
   "execution_count": 15,
   "id": "815335e0",
   "metadata": {},
   "outputs": [],
   "source": [
    "# df.to_csv('bcc_off_street_parking.csv')\n",
    "df.to_postgis(f'bcc_off_street_parking_regulations',engine_dev,schema=f'leap_bcc_master',if_exists='append',index=False)"
   ]
  },
  {
   "cell_type": "code",
   "execution_count": null,
   "id": "15b757c0",
   "metadata": {},
   "outputs": [],
   "source": []
  }
 ],
 "metadata": {
  "kernelspec": {
   "display_name": "Python 3 (ipykernel)",
   "language": "python",
   "name": "python3"
  },
  "language_info": {
   "codemirror_mode": {
    "name": "ipython",
    "version": 3
   },
   "file_extension": ".py",
   "mimetype": "text/x-python",
   "name": "python",
   "nbconvert_exporter": "python",
   "pygments_lexer": "ipython3",
   "version": "3.10.8"
  }
 },
 "nbformat": 4,
 "nbformat_minor": 5
}
